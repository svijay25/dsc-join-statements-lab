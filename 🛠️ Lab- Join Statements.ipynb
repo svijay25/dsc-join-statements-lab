{
 "cells": [
  {
   "cell_type": "markdown",
   "metadata": {},
   "source": [
    "# Join Statements - Lab\n",
    "\n",
    "## Introduction\n",
    "\n",
    "In this lab, you'll practice your knowledge of `JOIN` statements, using various types of joins and various methods for specifying the links between them.\n",
    "\n",
    "## Objectives\n",
    "\n",
    "You will be able to:\n",
    "\n",
    "* Write SQL queries that make use of various types of joins\n",
    "* Compare and contrast the various types of joins\n",
    "* Discuss how primary and foreign keys are used in SQL\n",
    "* Decide and perform whichever type of join is best for retrieving desired data"
   ]
  },
  {
   "cell_type": "markdown",
   "metadata": {},
   "source": [
    "## CRM ERD\n",
    "\n",
    "In this lab, you'll use the same customer relationship management (CRM) database that you saw from the previous lesson.\n",
    "<img src='https://curriculum-content.s3.amazonaws.com/data-science/images/Database-Schema.png' width=\"600\">"
   ]
  },
  {
   "cell_type": "markdown",
   "metadata": {},
   "source": [
    "## Connecting to the Database\n",
    "Import the necessary packages and connect to the database `'data.sqlite'`."
   ]
  },
  {
   "cell_type": "code",
   "execution_count": 3,
   "metadata": {},
   "outputs": [],
   "source": [
    "# Your code here\n",
    "# Import necessary packages\n",
    "import sqlite3\n",
    "import pandas as pd\n",
    "\n",
    "# Establish a connection to the database\n",
    "connection = sqlite3.connect('data.sqlite')\n"
   ]
  },
  {
   "cell_type": "markdown",
   "metadata": {},
   "source": [
    "## Select the names of all employees in Boston \n",
    "\n",
    "Hint: join the employees and offices tables. Select the first and last name."
   ]
  },
  {
   "cell_type": "code",
   "execution_count": 5,
   "metadata": {},
   "outputs": [
    {
     "name": "stdout",
     "output_type": "stream",
     "text": [
      "  firstName   lastName\n",
      "0     Julie   Firrelli\n",
      "1     Steve  Patterson\n"
     ]
    }
   ],
   "source": [
    "# Your code here\n",
    "# Define the SQL query\n",
    "query = \"\"\"\n",
    "SELECT employees.firstName, employees.lastName\n",
    "FROM employees\n",
    "JOIN offices ON employees.officeCode = offices.officeCode\n",
    "WHERE offices.city = 'Boston'\n",
    "\"\"\"\n",
    "\n",
    "# Execute the query and load the results into a DataFrame\n",
    "boston_employees_df = pd.read_sql(query, connection)\n",
    "\n",
    "# Display the DataFrame\n",
    "print(boston_employees_df)"
   ]
  },
  {
   "cell_type": "markdown",
   "metadata": {},
   "source": [
    "## Are there any offices that have zero employees?\n",
    "Hint: Combine the employees and offices tables and use a group by. Select the office code, city, and number of employees."
   ]
  },
  {
   "cell_type": "code",
   "execution_count": 10,
   "metadata": {},
   "outputs": [
    {
     "name": "stdout",
     "output_type": "stream",
     "text": [
      "   officeCode    city  num_employees\n",
      "0          27  Boston              0\n"
     ]
    }
   ],
   "source": [
    "# Your code here\n",
    "# Define the SQL query\n",
    "query = \"\"\"\n",
    "SELECT offices.officeCode, offices.city, COUNT(employees.employeeNumber) AS num_employees\n",
    "FROM offices\n",
    "LEFT JOIN employees ON offices.officeCode = employees.officeCode\n",
    "GROUP BY offices.officeCode, offices.city\n",
    "HAVING COUNT(employees.employeeNumber) = 0\n",
    "\"\"\"\n",
    "\n",
    "# Execute the query and load the results into a DataFrame\n",
    "offices_with_no_employees_df = pd.read_sql(query, connection)\n",
    "\n",
    "# Display the DataFrame\n",
    "print(offices_with_no_employees_df)"
   ]
  },
  {
   "cell_type": "markdown",
   "metadata": {},
   "source": [
    "## Write 3 questions of your own and answer them"
   ]
  },
  {
   "cell_type": "code",
   "execution_count": 13,
   "metadata": {},
   "outputs": [
    {
     "name": "stdout",
     "output_type": "stream",
     "text": [
      "Empty DataFrame\n",
      "Columns: [officeCode, city, num_customers]\n",
      "Index: []\n"
     ]
    }
   ],
   "source": [
    "#Question 1\n",
    "# How many customers are there per office?\n",
    "# Define the SQL query\n",
    "query = \"\"\"\n",
    "SELECT offices.officeCode, offices.city, COUNT(customers.customerNumber) AS num_customers\n",
    "FROM offices\n",
    "JOIN customers ON offices.officeCode = customers.customerNumber\n",
    "GROUP BY offices.officeCode, offices.city\n",
    "\"\"\"\n",
    "\n",
    "# Execute the query and load the results into a DataFrame\n",
    "customers_per_office_df = pd.read_sql(query, connection)\n",
    "\n",
    "# Display the DataFrame\n",
    "print(customers_per_office_df)\n",
    "\n"
   ]
  },
  {
   "cell_type": "code",
   "execution_count": 14,
   "metadata": {},
   "outputs": [
    {
     "name": "stdout",
     "output_type": "stream",
     "text": [
      "    customerNumber                    customerName  num_orders\n",
      "0              103               Atelier graphique           3\n",
      "1              112              Signal Gift Stores           3\n",
      "2              114      Australian Collectors, Co.           5\n",
      "3              119               La Rochelle Gifts           4\n",
      "4              121              Baane Mini Imports           4\n",
      "..             ...                             ...         ...\n",
      "93             486    Motor Mint Distributors Inc.           3\n",
      "94             487        Signal Collectibles Ltd.           2\n",
      "95             489  Double Decker Gift Stores, Ltd           2\n",
      "96             495            Diecast Collectables           2\n",
      "97             496               Kelly's Gift Shop           4\n",
      "\n",
      "[98 rows x 3 columns]\n"
     ]
    }
   ],
   "source": [
    "\"\"\"\n",
    "Question 2: How many orders have been placed by each customer?\n",
    "\n",
    "\n",
    "\"\"\"\n",
    "\n",
    "# Your code here\n",
    "query = \"\"\"\n",
    "SELECT customers.customerNumber, customers.customerName, COUNT(orders.orderNumber) AS num_orders\n",
    "FROM customers\n",
    "JOIN orders ON customers.customerNumber = orders.customerNumber\n",
    "GROUP BY customers.customerNumber, customers.customerName\n",
    "\"\"\"\n",
    "\n",
    "# Execute the query and load the results into a DataFrame\n",
    "orders_per_customer_df = pd.read_sql(query, connection)\n",
    "\n",
    "# Display the DataFrame\n",
    "print(orders_per_customer_df)"
   ]
  },
  {
   "cell_type": "code",
   "execution_count": 15,
   "metadata": {},
   "outputs": [
    {
     "name": "stdout",
     "output_type": "stream",
     "text": [
      "    productCode                            productName  total_sales\n",
      "0      S10_1678  1969 Harley Davidson Ultimate Chopper     90157.77\n",
      "1      S10_1949               1952 Alpine Renault 1300    190017.96\n",
      "2      S10_2016                  1996 Moto Guzzi 1100i    109998.82\n",
      "3      S10_4698   2003 Harley-Davidson Eagle Drag Bike    170686.00\n",
      "4      S10_4757                    1972 Alfa Romeo GTA    127924.32\n",
      "..          ...                                    ...          ...\n",
      "104   S700_3505                            The Titanic     84992.25\n",
      "105   S700_3962                         The Queen Mary     78919.06\n",
      "106   S700_4002              American Airlines: MD-11S     71753.93\n",
      "107    S72_1253                       Boeing X-32A JSF     42692.53\n",
      "108    S72_3212                             Pont Yacht     47550.40\n",
      "\n",
      "[109 rows x 3 columns]\n"
     ]
    }
   ],
   "source": [
    "\"\"\"\n",
    "Question 3: What is the total sales amount for each product?\n",
    "\n",
    "\"\"\"\n",
    "\n",
    "# Your code here\n",
    "query = \"\"\"\n",
    "SELECT products.productCode, products.productName, SUM(orderdetails.quantityOrdered * orderdetails.priceEach) AS total_sales\n",
    "FROM products\n",
    "JOIN orderdetails ON products.productCode = orderdetails.productCode\n",
    "GROUP BY products.productCode, products.productName\n",
    "\"\"\"\n",
    "\n",
    "# Execute the query and load the results into a DataFrame\n",
    "total_sales_per_product_df = pd.read_sql(query, connection)\n",
    "\n",
    "# Display the DataFrame\n",
    "print(total_sales_per_product_df)"
   ]
  },
  {
   "cell_type": "markdown",
   "metadata": {},
   "source": [
    "## Level Up 1: Display the names of every individual product that each employee has sold\n",
    "\n",
    "Hint: You will need to use multiple `JOIN` clauses to connect all the way from employee names to product names."
   ]
  },
  {
   "cell_type": "code",
   "execution_count": 16,
   "metadata": {},
   "outputs": [
    {
     "name": "stdout",
     "output_type": "stream",
     "text": [
      "      employeeNumber firstName  lastName                          productName\n",
      "0               1165    Leslie  Jennings  18th Century Vintage Horse Carriage\n",
      "1               1165    Leslie  Jennings  18th Century Vintage Horse Carriage\n",
      "2               1165    Leslie  Jennings  18th Century Vintage Horse Carriage\n",
      "3               1165    Leslie  Jennings  18th Century Vintage Horse Carriage\n",
      "4               1165    Leslie  Jennings  18th Century Vintage Horse Carriage\n",
      "...              ...       ...       ...                                  ...\n",
      "2991            1702    Martin    Gerard                          The Titanic\n",
      "2992            1702    Martin    Gerard                          The Titanic\n",
      "2993            1702    Martin    Gerard                          The Titanic\n",
      "2994            1702    Martin    Gerard            The USS Constitution Ship\n",
      "2995            1702    Martin    Gerard            The USS Constitution Ship\n",
      "\n",
      "[2996 rows x 4 columns]\n"
     ]
    }
   ],
   "source": [
    "# Your code here\n",
    "query = \"\"\"\n",
    "SELECT employees.employeeNumber, employees.firstName, employees.lastName, products.productName\n",
    "FROM employees\n",
    "JOIN customers ON employees.employeeNumber = customers.salesRepEmployeeNumber\n",
    "JOIN orders ON customers.customerNumber = orders.customerNumber\n",
    "JOIN orderdetails ON orders.orderNumber = orderdetails.orderNumber\n",
    "JOIN products ON orderdetails.productCode = products.productCode\n",
    "ORDER BY employees.employeeNumber, products.productName\n",
    "\"\"\"\n",
    "\n",
    "# Execute the query and load the results into a DataFrame\n",
    "employee_product_sales_df = pd.read_sql(query, connection)\n",
    "\n",
    "# Display the DataFrame\n",
    "print(employee_product_sales_df)"
   ]
  },
  {
   "cell_type": "markdown",
   "metadata": {},
   "source": [
    "## Level Up 2: Display the number of products each employee has sold\n",
    "\n",
    "Alphabetize the results by employee last name.\n",
    "\n",
    "Hint: Use the `quantityOrdered` column from `orderDetails`. Also, think about how to group the data when some employees might have the same first or last name."
   ]
  },
  {
   "cell_type": "code",
   "execution_count": 17,
   "metadata": {},
   "outputs": [
    {
     "name": "stdout",
     "output_type": "stream",
     "text": [
      "    employeeNumber firstName   lastName  total_products_sold\n",
      "0             1337      Loui     Bondur                 6186\n",
      "1             1501     Larry       Bott                 8205\n",
      "2             1401    Pamela   Castillo                 9290\n",
      "3             1188     Julie   Firrelli                 4227\n",
      "4             1611      Andy     Fixter                 6246\n",
      "5             1702    Martin     Gerard                 4180\n",
      "6             1370    Gerard  Hernandez                14231\n",
      "7             1165    Leslie   Jennings                11854\n",
      "8             1504     Barry      Jones                 7486\n",
      "9             1612     Peter      Marsh                 6632\n",
      "10            1621      Mami      Nishi                 4923\n",
      "11            1216     Steve  Patterson                 5561\n",
      "12            1166    Leslie   Thompson                 4056\n",
      "13            1286  Foon Yue      Tseng                 5016\n",
      "14            1323    George     Vanauf                 7423\n"
     ]
    }
   ],
   "source": [
    "# Your code here\n",
    "query = \"\"\"\n",
    "SELECT employees.employeeNumber, employees.firstName, employees.lastName, SUM(orderdetails.quantityOrdered) AS total_products_sold\n",
    "FROM employees\n",
    "JOIN customers ON employees.employeeNumber = customers.salesRepEmployeeNumber\n",
    "JOIN orders ON customers.customerNumber = orders.customerNumber\n",
    "JOIN orderdetails ON orders.orderNumber = orderdetails.orderNumber\n",
    "GROUP BY employees.employeeNumber, employees.firstName, employees.lastName\n",
    "ORDER BY employees.lastName, employees.firstName\n",
    "\"\"\"\n",
    "\n",
    "# Execute the query and load the results into a DataFrame\n",
    "products_sold_by_employee_df = pd.read_sql(query, connection)\n",
    "\n",
    "# Display the DataFrame\n",
    "print(products_sold_by_employee_df)"
   ]
  },
  {
   "cell_type": "markdown",
   "metadata": {},
   "source": [
    "## Level Up 3: Display the names employees who have sold more than 200 different products\n",
    "\n",
    "Hint: this is different from the previous question because the quantity sold doesn't matter, only the number of different products"
   ]
  },
  {
   "cell_type": "code",
   "execution_count": 18,
   "metadata": {},
   "outputs": [
    {
     "name": "stdout",
     "output_type": "stream",
     "text": [
      "Empty DataFrame\n",
      "Columns: [employeeNumber, firstName, lastName, distinct_products_sold]\n",
      "Index: []\n"
     ]
    }
   ],
   "source": [
    "# Your code here\n",
    "query = \"\"\"\n",
    "SELECT employees.employeeNumber, employees.firstName, employees.lastName, COUNT(DISTINCT products.productCode) AS distinct_products_sold\n",
    "FROM employees\n",
    "JOIN customers ON employees.employeeNumber = customers.salesRepEmployeeNumber\n",
    "JOIN orders ON customers.customerNumber = orders.customerNumber\n",
    "JOIN orderdetails ON orders.orderNumber = orderdetails.orderNumber\n",
    "JOIN products ON orderdetails.productCode = products.productCode\n",
    "GROUP BY employees.employeeNumber, employees.firstName, employees.lastName\n",
    "HAVING COUNT(DISTINCT products.productCode) > 200\n",
    "ORDER BY employees.lastName, employees.firstName\n",
    "\"\"\"\n",
    "\n",
    "# Execute the query and load the results into a DataFrame\n",
    "employees_with_200_products_df = pd.read_sql(query, connection)\n",
    "\n",
    "# Display the DataFrame\n",
    "print(employees_with_200_products_df)\n"
   ]
  },
  {
   "cell_type": "markdown",
   "metadata": {},
   "source": [
    "## Summary"
   ]
  },
  {
   "cell_type": "markdown",
   "metadata": {},
   "source": [
    "Congrats! You practiced using join statements and leveraged your foreign keys knowledge!"
   ]
  }
 ],
 "metadata": {
  "kernelspec": {
   "display_name": "Python 3 (ipykernel)",
   "language": "python",
   "name": "python3"
  },
  "language_info": {
   "codemirror_mode": {
    "name": "ipython",
    "version": 3
   },
   "file_extension": ".py",
   "mimetype": "text/x-python",
   "name": "python",
   "nbconvert_exporter": "python",
   "pygments_lexer": "ipython3",
   "version": "3.12.4"
  },
  "toc": {
   "base_numbering": 1,
   "nav_menu": {},
   "number_sections": true,
   "sideBar": true,
   "skip_h1_title": false,
   "title_cell": "Table of Contents",
   "title_sidebar": "Contents",
   "toc_cell": false,
   "toc_position": {},
   "toc_section_display": true,
   "toc_window_display": false
  }
 },
 "nbformat": 4,
 "nbformat_minor": 4
}
